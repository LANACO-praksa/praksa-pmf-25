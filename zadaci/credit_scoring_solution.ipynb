{
 "cells": [
  {
   "cell_type": "markdown",
   "metadata": {},
   "source": [
    "### Klasifikacija kreditnog rizika - credit scoring classification\n",
    "\n",
    "Osnovni cilj ovog primjera je upoznavanje sa Python paketima za obradu podataka i mašinsko učenje, sa fokusom na **scikit-learn** i **LightGBM** pakete. U ovom primjeru ćemo koristiti skup podataka **credit-g v.2** koji sadrži informacije o klijentima banke, cilj je klasifikacija klijenata kao dobrih ili loših korisnika kredita.\n",
    "\n",
    "**Dokumentacija paketa:**\n",
    "* [pandas docs](https://pandas.pydata.org/docs/)\n",
    "* [scikit-learn docs](https://scikit-learn.org/stable/)\n",
    "* [LightGBM docs](https://lightgbm.readthedocs.io/en/stable/)\n",
    "* [Matplotlib docs](https://matplotlib.org/stable/index.html)\n",
    "* [seaborn docs](https://seaborn.pydata.org/)"
   ]
  },
  {
   "cell_type": "markdown",
   "metadata": {},
   "source": [
    "Koristeći sklearn, učitati skup podataka *credit-g v.2* (dataset id=44096), upoznati se sa skupom podataka, analizirati podatke i pripremiti ih za obradu.  \n",
    "Identifikovati tipove podataka - numeričke i kategoričke.  \n",
    "Provjeriti da li postoje nedostajuće vrijednosti, ako da, obraditi ih.  \n",
    "Provjeriti broj jedinstvenih vrijednosti za svaku kolonu."
   ]
  },
  {
   "cell_type": "code",
   "execution_count": 1,
   "metadata": {},
   "outputs": [],
   "source": [
    "import pandas as pd\n",
    "from sklearn.datasets import fetch_openml\n",
    "\n",
    "from sklearn.model_selection import train_test_split\n",
    "from sklearn.preprocessing import (\n",
    "    OrdinalEncoder,\n",
    "    StandardScaler,\n",
    "    LabelEncoder\n",
    ")\n",
    "from sklearn.compose import ColumnTransformer\n",
    "from sklearn.pipeline import Pipeline\n",
    "from sklearn.base import BaseEstimator, TransformerMixin\n",
    "from sklearn.metrics import accuracy_score\n",
    "\n",
    "import seaborn as sns\n",
    "import matplotlib.pyplot as plt\n",
    "import lightgbm as lgb"
   ]
  },
  {
   "cell_type": "code",
   "execution_count": 2,
   "metadata": {},
   "outputs": [],
   "source": [
    "credit = fetch_openml(data_id=44096, as_frame=True)"
   ]
  },
  {
   "cell_type": "code",
   "execution_count": null,
   "metadata": {},
   "outputs": [],
   "source": [
    "credit_df = credit['data']\n",
    "credit_df.head()"
   ]
  },
  {
   "cell_type": "code",
   "execution_count": null,
   "metadata": {},
   "outputs": [],
   "source": [
    "credit_df_target = credit[\"target\"]\n",
    "credit_df_target.head()"
   ]
  },
  {
   "cell_type": "code",
   "execution_count": null,
   "metadata": {},
   "outputs": [],
   "source": [
    "print(credit_df.info())"
   ]
  },
  {
   "cell_type": "code",
   "execution_count": null,
   "metadata": {},
   "outputs": [],
   "source": [
    "print(credit_df.isnull().sum())"
   ]
  },
  {
   "cell_type": "code",
   "execution_count": null,
   "metadata": {},
   "outputs": [],
   "source": [
    "print(credit_df.nunique())"
   ]
  },
  {
   "cell_type": "markdown",
   "metadata": {},
   "source": [
    "Izdvojiti numeričke i kategoričke kolone."
   ]
  },
  {
   "cell_type": "code",
   "execution_count": null,
   "metadata": {},
   "outputs": [],
   "source": [
    "num_cols = credit_df.select_dtypes(include=[\"int64\", \"float64\"]).columns.tolist()\n",
    "cat_cols = credit_df.select_dtypes(include=[\"category\"]).columns.tolist()\n",
    "\n",
    "print(f\"Numericke kolone:\\n{num_cols}\")\n",
    "print(f\"Kategoricke kolone:\\n{cat_cols}\")"
   ]
  },
  {
   "cell_type": "markdown",
   "metadata": {},
   "source": [
    "Pregledati jedinstvene vrijednosti za kategoričke kolone."
   ]
  },
  {
   "cell_type": "code",
   "execution_count": null,
   "metadata": {},
   "outputs": [],
   "source": [
    "for col in cat_cols:\n",
    "    print(f\"{col} : {credit_df[col].unique().tolist()}\")"
   ]
  },
  {
   "cell_type": "markdown",
   "metadata": {},
   "source": [
    "Kreirati preprocessing pipeline koji će:  \n",
    "    - koristiti StandardScaler za sve numeričke kolone osim 'age' kolone  \n",
    "    - koristiti OrdinalEncoder za kategoričke kolone  \n",
    "    - koristiti custom transformer koji će godine klijenta prebaciti u odgovarajuće starosne grupe.  \n",
    "  \n",
    "Navedene transformacije je potrebno integrisati u jedan transformer pipeline - koristiti ColumnTransformer."
   ]
  },
  {
   "cell_type": "code",
   "execution_count": null,
   "metadata": {},
   "outputs": [],
   "source": [
    "num_cols_without_age = num_cols.copy()\n",
    "num_cols_without_age.remove(\"age\")\n",
    "print(num_cols_without_age)"
   ]
  },
  {
   "cell_type": "code",
   "execution_count": 11,
   "metadata": {},
   "outputs": [],
   "source": [
    "preprocessor = ColumnTransformer(\n",
    "    transformers=[\n",
    "        (\"num\", StandardScaler(), num_cols_without_age),\n",
    "        (\n",
    "            \"cat\",\n",
    "            OrdinalEncoder(\n",
    "                handle_unknown=\"use_encoded_value\",\n",
    "                unknown_value=-1,\n",
    "                encoded_missing_value=-1,\n",
    "            ),\n",
    "            cat_cols,\n",
    "        ),\n",
    "    ],\n",
    "    remainder=\"passthrough\",\n",
    "    verbose_feature_names_out=False,\n",
    ").set_output(transform=\"pandas\")"
   ]
  },
  {
   "cell_type": "code",
   "execution_count": 12,
   "metadata": {},
   "outputs": [],
   "source": [
    "class AgeTransformer(BaseEstimator, TransformerMixin):\n",
    "    def __init__(self, age_column):\n",
    "        self.age_column = age_column\n",
    "\n",
    "    def fit(self, X, y=None):\n",
    "        return self\n",
    "\n",
    "    def transform(self, X):\n",
    "        age_bins = [0, 18, 25, 35, 45, 55, 65, 70, 100]\n",
    "\n",
    "        X[self.age_column] = pd.cut(X[self.age_column], bins=age_bins, labels=range(len(age_bins) - 1))\n",
    "        return X"
   ]
  },
  {
   "cell_type": "code",
   "execution_count": null,
   "metadata": {},
   "outputs": [],
   "source": [
    "pipeline = Pipeline(\n",
    "    [\n",
    "        (\"preprocessor\", preprocessor),\n",
    "        (\n",
    "            \"age\",\n",
    "            AgeTransformer(age_column=\"age\"),\n",
    "        ),\n",
    "    ]\n",
    ")\n",
    "\n",
    "transformed_credit_df = pipeline.fit_transform(credit_df)\n",
    "transformed_credit_df.head()"
   ]
  },
  {
   "cell_type": "markdown",
   "metadata": {},
   "source": [
    "Enkodirati ciljanu varijablu koristeći LabelEncoder."
   ]
  },
  {
   "cell_type": "code",
   "execution_count": 14,
   "metadata": {},
   "outputs": [],
   "source": [
    "label_encoder = LabelEncoder()\n",
    "y_encoded = label_encoder.fit_transform(credit_df_target)\n",
    "y = pd.Series(y_encoded, name=\"target\")"
   ]
  },
  {
   "cell_type": "markdown",
   "metadata": {},
   "source": [
    "Dodati ciljanu varijablu u skup podataka i izračunati matricu korelacije."
   ]
  },
  {
   "cell_type": "code",
   "execution_count": 15,
   "metadata": {},
   "outputs": [],
   "source": [
    "df_with_target = transformed_credit_df.copy()\n",
    "df_with_target[\"target\"] = y"
   ]
  },
  {
   "cell_type": "code",
   "execution_count": null,
   "metadata": {},
   "outputs": [],
   "source": [
    "cor_mat = df_with_target.corr()\n",
    "\n",
    "plt.figure(figsize=(16, 8))\n",
    "sns.heatmap(cor_mat, annot=True, cmap=\"coolwarm\", fmt=\".2f\")\n",
    "plt.title(\"Correlation mat\")\n",
    "plt.show()"
   ]
  },
  {
   "cell_type": "markdown",
   "metadata": {},
   "source": [
    "Analizirati korelacije u odnosu na ciljanu varijablu i izdvojiti 4 najveće i 4 najmanje korelacije."
   ]
  },
  {
   "cell_type": "code",
   "execution_count": null,
   "metadata": {},
   "outputs": [],
   "source": [
    "target_correlations = cor_mat[\"target\"].sort_values(ascending=False)\n",
    "print(\"Correlation:\")\n",
    "print(target_correlations)"
   ]
  },
  {
   "cell_type": "code",
   "execution_count": null,
   "metadata": {},
   "outputs": [],
   "source": [
    "threshold = 0.06\n",
    "selected_features = target_correlations[\n",
    "    abs(target_correlations) > threshold \n",
    "].index.tolist()\n",
    "selected_features.remove(\"target\")\n",
    "\n",
    "print(selected_features)"
   ]
  },
  {
   "cell_type": "markdown",
   "metadata": {},
   "source": [
    "Podijeliti podatke na skup za treniranje i testiranje"
   ]
  },
  {
   "cell_type": "code",
   "execution_count": 19,
   "metadata": {},
   "outputs": [],
   "source": [
    "X = transformed_credit_df[selected_features]\n",
    "\n",
    "X_train, X_test, y_train, y_test = train_test_split(\n",
    "    X, y, test_size=0.35, random_state=42\n",
    ")"
   ]
  },
  {
   "cell_type": "markdown",
   "metadata": {},
   "source": [
    "Izvršiti treniranje LightGBM modela i prikazati rezultat evaluacije modela koristeći 'accuracy_score'."
   ]
  },
  {
   "cell_type": "code",
   "execution_count": null,
   "metadata": {},
   "outputs": [],
   "source": [
    "model = lgb.LGBMClassifier(num_leaves=8, max_depth=4, random_state=42, n_jobs=12)\n",
    "model.fit(X_train, y_train)"
   ]
  },
  {
   "cell_type": "code",
   "execution_count": null,
   "metadata": {},
   "outputs": [],
   "source": [
    "y_pred = model.predict(X_test)\n",
    "accuracy = accuracy_score(y_test, y_pred)\n",
    "print(f\"Accuracy score: {accuracy:.3f}\")"
   ]
  },
  {
   "cell_type": "markdown",
   "metadata": {},
   "source": [
    "Koristeći scikit-learn model_selection.GridSearchCV, optimizirati parametre LightGBM modela."
   ]
  },
  {
   "cell_type": "code",
   "execution_count": null,
   "metadata": {},
   "outputs": [],
   "source": [
    "from sklearn.model_selection import GridSearchCV\n",
    "from sklearn.metrics import make_scorer\n",
    "\n",
    "\n",
    "lgb_model = lgb.LGBMClassifier(random_state=42, n_jobs=12)\n",
    "\n",
    "param_grid = {\n",
    "    \"num_leaves\": [4, 5, 6, 7],\n",
    "    \"learning_rate\": [0.1, 0.01],\n",
    "    \"max_depth\": [3, 4, 5, 6],\n",
    "    \"n_estimators\": [200, 500, 1000],\n",
    "}\n",
    "\n",
    "grid_search = GridSearchCV(\n",
    "    estimator=lgb_model,\n",
    "    param_grid=param_grid,\n",
    "    scoring=make_scorer(accuracy_score),\n",
    "    n_jobs=12,\n",
    "    cv=5,\n",
    "    verbose=1,\n",
    ")\n",
    "\n",
    "grid_search.fit(X_train, y_train)\n",
    "\n",
    "print(f\"Best parameters found: {grid_search.best_params_}\")"
   ]
  },
  {
   "cell_type": "code",
   "execution_count": null,
   "metadata": {},
   "outputs": [],
   "source": [
    "best_model = grid_search.best_estimator_\n",
    "y_pred = best_model.predict(X_test)\n",
    "accuracy = accuracy_score(y_test, y_pred)\n",
    "print(f\"Accuracy score of the best model: {accuracy}\")"
   ]
  }
 ],
 "metadata": {
  "kernelspec": {
   "display_name": ".venv",
   "language": "python",
   "name": "python3"
  },
  "language_info": {
   "codemirror_mode": {
    "name": "ipython",
    "version": 3
   },
   "file_extension": ".py",
   "mimetype": "text/x-python",
   "name": "python",
   "nbconvert_exporter": "python",
   "pygments_lexer": "ipython3",
   "version": "3.10.11"
  }
 },
 "nbformat": 4,
 "nbformat_minor": 2
}
