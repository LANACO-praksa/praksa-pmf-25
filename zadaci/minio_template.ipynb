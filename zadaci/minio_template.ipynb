{
 "cells": [
  {
   "cell_type": "markdown",
   "metadata": {},
   "source": [
    "*Za rad sa MinIO object store-om, proučiti [MinIO Python API dokumentaciju](https://min.io/docs/minio/linux/developers/python/API.html).* "
   ]
  },
  {
   "cell_type": "markdown",
   "metadata": {},
   "source": [
    "### Zadatak 1: Kreiranje i provjera postojanja bucketa\n",
    "\n",
    "Definišite funkciju koja provjerava postojanje bucketa pod nazivom 'my-data'. Ako bucket ne postoji, kreirajte ga. Ako već postoji, ispišite poruku 'Bucket 'my-data' već postoji."
   ]
  },
  {
   "cell_type": "code",
   "execution_count": null,
   "metadata": {},
   "outputs": [],
   "source": [
    "# code"
   ]
  },
  {
   "cell_type": "markdown",
   "metadata": {},
   "source": [
    "### Zadatak 2: Upload datoteka\n",
    "\n",
    "Definišite funkciju koja uploaduje datoteku \"data.txt\" u bucket \"my-data\"."
   ]
  },
  {
   "cell_type": "code",
   "execution_count": null,
   "metadata": {},
   "outputs": [],
   "source": [
    "# code"
   ]
  },
  {
   "cell_type": "markdown",
   "metadata": {},
   "source": [
    "### Zadatak 3: Preuzimanje datoteka\n",
    "\n",
    "Definišite funkciju koja preuzima datoteku \"data.txt\" iz bucketa \"my-data\" i sprema je lokalno."
   ]
  },
  {
   "cell_type": "code",
   "execution_count": null,
   "metadata": {},
   "outputs": [],
   "source": [
    "# code"
   ]
  },
  {
   "cell_type": "markdown",
   "metadata": {},
   "source": [
    "### Zadatak 4: Brisanje datoteka\n",
    "\n",
    "Definišite funkciju koja briše datoteku \"data1.txt\" iz bucketa \"my'data\"."
   ]
  },
  {
   "cell_type": "code",
   "execution_count": null,
   "metadata": {},
   "outputs": [],
   "source": [
    "# code"
   ]
  },
  {
   "cell_type": "markdown",
   "metadata": {},
   "source": [
    "### Zadatak 5: Listanje datoteka u bucket\n",
    "\n",
    "Definišite funkciju koja ispisuje popis svih datoteka u bucketu \"my-data\"."
   ]
  },
  {
   "cell_type": "code",
   "execution_count": null,
   "metadata": {},
   "outputs": [],
   "source": [
    "# code"
   ]
  },
  {
   "cell_type": "markdown",
   "metadata": {},
   "source": [
    "### Zadatak 6: Upload i učitavanje proizvoljnog Python objekta\n",
    "\n",
    "Upload objekta: Definišite funkciju koja kreira proizvoljan Python objekt (npr. rječnik, listu, vlastitu klasu) i uploaduje ga u Minio bucket koristeći `.pkl` format.\n",
    "\n",
    "Učitavanje objekta: Definišite funkciju koja učitava sačuvani objekt iz Minio bucketa i ispisuje ga ili koristi u ostatku koda."
   ]
  },
  {
   "cell_type": "code",
   "execution_count": null,
   "metadata": {},
   "outputs": [],
   "source": [
    "# code"
   ]
  },
  {
   "cell_type": "markdown",
   "metadata": {},
   "source": [
    "### Zadatak 7: Kontinuirano ažuriranje i čuvanje Python objekta\n",
    "\n",
    "Definišite funkciju koja omogućuje kontinuirano ažuriranje i čuvanje Python objekta u Minio bucket. Funkcija treba:\n",
    "\n",
    "1. Prije svake iteracije, pokušati učitati postojeći Python objekt iz Minio bucketa. Ako objekt ne postoji, treba kreirati prazan objekt (npr. prazan rječnik ili listu). \n",
    "\n",
    "2. U for petlji s unaprijed definisanim brojem iteracija: \n",
    "    * Ažurirati učitani objekt (npr. dodati novi element, izmijeniti postojeći). \n",
    "    * Sačuvati ažurirani objekt nazad u Minio bucket."
   ]
  },
  {
   "cell_type": "code",
   "execution_count": null,
   "metadata": {},
   "outputs": [],
   "source": [
    "# code"
   ]
  },
  {
   "cell_type": "markdown",
   "metadata": {},
   "source": [
    "### Zadatak: Kreiranje MinIO utils modula\n",
    "\n",
    "Kreirati Python modul `minio_utils.py` koji će sadržavati pomoćne funkcije za rad sa MinIO-m koristeći minio paket.\n",
    "\n",
    "Modul treba da sadrži:\n",
    "- Funkciju za kreiranje i konfiguraciju MinIO klijenta\n",
    "- Funkciju za kreiranje bucketa\n",
    "- Funkciju za upload i download pkl fajlova\n",
    "- Funkciju za upload i download JSON fajlova\n",
    "\n",
    "Testirati modul sa primjerima korištenja svake funkcije."
   ]
  }
 ],
 "metadata": {
  "kernelspec": {
   "display_name": "praksa2",
   "language": "python",
   "name": "python3"
  },
  "language_info": {
   "codemirror_mode": {
    "name": "ipython",
    "version": 3
   },
   "file_extension": ".py",
   "mimetype": "text/x-python",
   "name": "python",
   "nbconvert_exporter": "python",
   "pygments_lexer": "ipython3",
   "version": "3.11.2"
  }
 },
 "nbformat": 4,
 "nbformat_minor": 2
}
