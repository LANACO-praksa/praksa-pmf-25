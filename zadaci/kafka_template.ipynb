{
 "cells": [
  {
   "cell_type": "markdown",
   "metadata": {},
   "source": [
    "*Za rad sa Kafkom, proučiti [kafka-python dokumentaciju](https://kafka-python.readthedocs.io/en/master/).* "
   ]
  },
  {
   "cell_type": "markdown",
   "metadata": {},
   "source": [
    "### Zadatak 1: Jednostavan Producer i Consumer\n",
    "\n",
    "Kreirajte jednostavan Kafka producer koji šalje poruke u JSON formatu (user_id, timestamp, i activity) na jedan topic i consumer koji čita poruke iz istog topic-a."
   ]
  },
  {
   "cell_type": "code",
   "execution_count": null,
   "metadata": {},
   "outputs": [],
   "source": [
    "# code"
   ]
  },
  {
   "cell_type": "markdown",
   "metadata": {},
   "source": [
    "### Zadatak 2: Producer na dva topica i Consumer iz više topic-a\n",
    "\n",
    "Kreirajte producer koji šalje dva tipa poruka (aktivnosti korisnika - npr. take_product, leave_product, transakcije korisnika - deposit, withdrawal) na dva različita topic-a i consumer koji čita poruke iz oba topic-a."
   ]
  },
  {
   "cell_type": "code",
   "execution_count": null,
   "metadata": {},
   "outputs": [],
   "source": [
    "# code"
   ]
  },
  {
   "cell_type": "markdown",
   "metadata": {},
   "source": [
    "### Zadatak 3: Producer koji šalje poruke različitog formata na jedan topic\n",
    "\n",
    "Kreirajte producer koji šalje poruke različitog formata na jedan topic.\n",
    "\n",
    "1. Zajednički atributi za sve poruke:\n",
    "   - timestamp\n",
    "   - user_id\n",
    "   - message_key (za identifikaciju tipa poruke)\n",
    "\n",
    "2. Specifični atributi za različite tipove poruka:\n",
    "   - Activity poruke: action, bank\n",
    "   - Transaction poruke: transaction_type, amount"
   ]
  },
  {
   "cell_type": "code",
   "execution_count": null,
   "metadata": {},
   "outputs": [],
   "source": [
    "# code"
   ]
  },
  {
   "cell_type": "markdown",
   "metadata": {},
   "source": [
    "### Zadatak 4: Procesiranje poruka po tipu\n",
    "\n",
    "Kreirajte consumer koji čita poruke iz jednog topic-a i procesira ih prema tipu. Implementirajte:\n",
    "\n",
    "1. Identifikovanje tipa poruke\n",
    "   - Koristiti message_key za identifikaciju tipa poruke\n",
    "   - Validacija formata poruke prema tipu\n",
    "\n",
    "2. Procesiranje poruke\n",
    "   - Različita logika procesiranja za svaki tip poruke"
   ]
  },
  {
   "cell_type": "code",
   "execution_count": null,
   "metadata": {},
   "outputs": [],
   "source": [
    "# code"
   ]
  },
  {
   "cell_type": "markdown",
   "metadata": {},
   "source": [
    "### Zadatak 5: Stream processing pipeline\n",
    "\n",
    "Implementirajte stream processing pipeline koji:\n",
    "\n",
    "1. Čita poruke iz izvornog topic-a\n",
    "2. Procesira poruke:\n",
    "   - Transformiše poruke u novi format\n",
    "   - Dodaje processed_timestamp\n",
    "\n",
    "3. Šalje procesirane poruke na novi topic"
   ]
  },
  {
   "cell_type": "code",
   "execution_count": null,
   "metadata": {},
   "outputs": [],
   "source": [
    "# code"
   ]
  },
  {
   "cell_type": "markdown",
   "metadata": {},
   "source": [
    "### Zadatak: Kreiranje Kafka utils modula\n",
    "\n",
    "Kreirati Python modul `kafka_utils.py` koji će sadržati pomoćne funkcije za rad sa Kafkom koristeći kafka-python-ng paket.\n",
    "\n",
    "Modul treba da sadrži:\n",
    "- Funkciju za kreiranje i konfiguraciju Kafka producer-a\n",
    "- Funkcije za slanje poruka na Kafka topic\n",
    "- Funkciju za kreiranje Kafka topic-a\n",
    "\n",
    "Testirati modul sa primjerima korištenja svake funkcije."
   ]
  }
 ],
 "metadata": {
  "kernelspec": {
   "display_name": "Python 3",
   "language": "python",
   "name": "python3"
  },
  "language_info": {
   "codemirror_mode": {
    "name": "ipython",
    "version": 3
   },
   "file_extension": ".py",
   "mimetype": "text/x-python",
   "name": "python",
   "nbconvert_exporter": "python",
   "pygments_lexer": "ipython3",
   "version": "3.10.11"
  }
 },
 "nbformat": 4,
 "nbformat_minor": 2
}
