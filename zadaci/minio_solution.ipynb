{
 "cells": [
  {
   "cell_type": "markdown",
   "metadata": {},
   "source": [
    "*Za rad sa MinIO object store-om koristeći Python API, poučiti [dokumentaciju](https://min.io/docs/minio/linux/developers/python/API.html).* "
   ]
  },
  {
   "cell_type": "markdown",
   "metadata": {},
   "source": [
    "### Zadatak 1: Kreiranje i provjera postojanja bucketa\n",
    "\n",
    "Definišite funkciju koja provjerava postojanje bucketa pod nazivom 'my-data'. Ako bucket ne postoji, kreirajte ga. Ako već postoji, ispišite poruku 'Bucket 'my-data' već postoji."
   ]
  },
  {
   "cell_type": "code",
   "execution_count": 2,
   "metadata": {},
   "outputs": [],
   "source": [
    "from minio import Minio\n",
    "\n",
    "ACCESS_KEY = \"minioadmin\"\n",
    "SECRET_KEY = \"minioadmin\"\n",
    "ENDPOINT = \"localhost:9000\"\n",
    "BUCKET_NAME = \"my-data\"\n",
    "\n",
    "client = Minio(ENDPOINT, access_key=ACCESS_KEY, secret_key=SECRET_KEY, secure=False)"
   ]
  },
  {
   "cell_type": "code",
   "execution_count": null,
   "metadata": {},
   "outputs": [],
   "source": [
    "def create_bucket(naziv_bucketa):\n",
    "    if not client.bucket_exists(naziv_bucketa):\n",
    "        client.make_bucket(naziv_bucketa)\n",
    "        print(f\"Bucket '{naziv_bucketa}' successfully created.\")\n",
    "    else:\n",
    "        print(f\"Bucket '{naziv_bucketa}' already exists.\")\n",
    "\n",
    "create_bucket(BUCKET_NAME)"
   ]
  },
  {
   "cell_type": "markdown",
   "metadata": {},
   "source": [
    "### Zadatak 2: Upload datoteka\n",
    "\n",
    "Definišite funkciju koja uploaduje datoteku \"data.txt\" u bucket \"my-data\"."
   ]
  },
  {
   "cell_type": "code",
   "execution_count": null,
   "metadata": {},
   "outputs": [],
   "source": [
    "def upload_files_fput(bucket_name, files):\n",
    "    for file in files:\n",
    "        client.fput_object(bucket_name, file, file)\n",
    "\n",
    "upload_files_fput(BUCKET_NAME, [\"data1.txt\", \"data2.txt\"])"
   ]
  },
  {
   "cell_type": "markdown",
   "metadata": {},
   "source": [
    "### Zadatak 3: Preuzimanje datoteka\n",
    "\n",
    "Definišite funkciju koja preuzima datoteku \"data.txt\" iz bucketa \"my-data\" i sprema je lokalno."
   ]
  },
  {
   "cell_type": "code",
   "execution_count": null,
   "metadata": {},
   "outputs": [],
   "source": [
    "def download_file_fget(bucket_name, object_name, file_name):\n",
    "    client.fget_object(bucket_name, object_name, file_name)\n",
    "    print(f\"Object '{object_name}' successfully downloaded as '{file_name}'.\")\n",
    "\n",
    "download_file_fget(BUCKET_NAME, \"data1.txt\", \"downloaded_data1.txt\")"
   ]
  },
  {
   "cell_type": "markdown",
   "metadata": {},
   "source": [
    "### Zadatak 4: Brisanje datoteka\n",
    "\n",
    "Definišite funkciju koja briše datoteku \"data1.txt\" iz bucketa \"my'data\"."
   ]
  },
  {
   "cell_type": "code",
   "execution_count": null,
   "metadata": {},
   "outputs": [],
   "source": [
    "def delete_file(bucket_name, file_name):\n",
    "    client.remove_object(bucket_name, file_name)\n",
    "    print(f\"Object '{file_name}' successfully deleted.\")\n",
    "\n",
    "delete_file(BUCKET_NAME, \"data1.txt\")"
   ]
  },
  {
   "cell_type": "markdown",
   "metadata": {},
   "source": [
    "### Zadatak 5: Listanje datoteka u bucket\n",
    "\n",
    "Definišite funkciju koja ispisuje popis svih datoteka u bucketu \"my-data\"."
   ]
  },
  {
   "cell_type": "code",
   "execution_count": null,
   "metadata": {},
   "outputs": [],
   "source": [
    "def list_files(bucket_name):\n",
    "    objects = client.list_objects(bucket_name)\n",
    "    print(f\"Objects in bucket '{bucket_name}':\")\n",
    "    for obj in objects:\n",
    "        print(obj.object_name)\n",
    "\n",
    "list_files(BUCKET_NAME)"
   ]
  },
  {
   "cell_type": "markdown",
   "metadata": {},
   "source": [
    "### Zadatak 6: Upload i učitavanje proizvoljnog Python objekta\n",
    "\n",
    "Upload objekta: Definišite funkciju koja kreira proizvoljan Python objekt (npr. rječnik, listu, vlastitu klasu) i uploaduje ga u Minio bucket koristeći `.pkl` format.\n",
    "\n",
    "Učitavanje objekta: Definišite funkciju koja učitava sačuvani objekt iz Minio bucketa i ispisuje ga ili koristi u ostatku koda."
   ]
  },
  {
   "cell_type": "code",
   "execution_count": null,
   "metadata": {},
   "outputs": [],
   "source": [
    "import pickle\n",
    "import io\n",
    "\n",
    "def load_data_from_minio(bucket_name, file_name):\n",
    "    try:\n",
    "        response = client.get_object(bucket_name, file_name)\n",
    "        return pickle.loads(response.data)\n",
    "    except Exception as e:\n",
    "        return {}\n",
    "\n",
    "def save_data_to_minio(bucket_name, file_name, data):\n",
    "    try:\n",
    "        bytes_data = io.BytesIO(pickle.dumps(data))\n",
    "        client.put_object(\n",
    "            bucket_name,\n",
    "            file_name,\n",
    "            bytes_data,\n",
    "            length=len(bytes_data.getvalue())\n",
    "        )\n",
    "    except Exception as e:\n",
    "        print(f\"Error saving {file_name} to MinIO: {e}\")\n",
    "\n",
    "\n",
    "def create_and_upload_object(bucket_name, object_name):\n",
    "    sample_object = {\n",
    "        \"name\": \"NN\",\n",
    "        \"age\": 25,\n",
    "        \"products\": [\"loan\", \"visa card\", \"insurance\"],\n",
    "    }\n",
    "    save_data_to_minio(bucket_name, object_name, sample_object)\n",
    "    print(f\"Object '{object_name}' successfully uploaded to bucket '{bucket_name}'.\")\n",
    "\n",
    "\n",
    "def load_and_print_object(bucket_name, object_name):\n",
    "    loaded_object = load_data_from_minio(bucket_name, object_name)\n",
    "    print(f\"Loaded object from bucket '{bucket_name}': {loaded_object}\")\n",
    "\n",
    "create_and_upload_object(BUCKET_NAME, \"sample_object.pkl\")\n",
    "load_and_print_object(BUCKET_NAME, \"sample_object.pkl\")"
   ]
  },
  {
   "cell_type": "markdown",
   "metadata": {},
   "source": [
    "### Zadatak 7: Kontinuirano ažuriranje i čuvanje Python objekta\n",
    "\n",
    "Definišite funkciju koja omogućuje kontinuirano ažuriranje i čuvanje Python objekta u Minio bucket. Funkcija treba:\n",
    "\n",
    "1. Prije svake iteracije, pokušati učitati postojeći Python objekt iz Minio bucketa. Ako objekt ne postoji, treba kreirati prazan objekt (npr. prazan rječnik ili listu). \n",
    "\n",
    "2. U for petlji s unaprijed definisanim brojem iteracija: \n",
    "    * Ažurirati učitani objekt (npr. dodati novi element, izmijeniti postojeći). \n",
    "    * Sačuvati ažurirani objekt nazad u Minio bucket."
   ]
  },
  {
   "cell_type": "code",
   "execution_count": null,
   "metadata": {},
   "outputs": [],
   "source": [
    "from datetime import datetime\n",
    "\n",
    "def load_and_save_object(bucket_name, object_name, num_iterations):\n",
    "    try:\n",
    "        for i in range(num_iterations):\n",
    "            loaded_object = load_data_from_minio(bucket_name, object_name)\n",
    "            if loaded_object is None:\n",
    "                loaded_object = {}\n",
    "            print(f\"Object before update: {loaded_object}\")\n",
    "\n",
    "            timestamp = datetime.now().strftime(\"%Y-%m-%d %H:%M:%S\")\n",
    "            loaded_object[\"update_time_\" + str(i)] = timestamp\n",
    "\n",
    "            save_data_to_minio(bucket_name, object_name, loaded_object)\n",
    "            print(f\"Object after update: {loaded_object}\\n\")\n",
    "\n",
    "    except Exception as e:\n",
    "        print(f\"An error occured in main loop: {e}\")\n",
    "\n",
    "load_and_save_object(BUCKET_NAME, \"my-dict\", 5)"
   ]
  },
  {
   "cell_type": "markdown",
   "metadata": {},
   "source": [
    "### Zadatak: Kreiranje MinIO utils modula\n",
    "\n",
    "Kreirati Python modul `minio_utils.py` koji će sadržati pomoćne funkcije za rad sa MinIO-m koristeći minio paket.\n",
    "\n",
    "Modul treba da sadrži:\n",
    "- Funkciju za kreiranje i konfiguraciju MinIO klijenta\n",
    "- Funkciju za kreiranje bucketa\n",
    "- Funkciju za upload i download pkl fajlova\n",
    "- Funkciju za upload i download JSON fajlova\n",
    "\n",
    "Testirati modul sa primjerima korištenja svake funkcije."
   ]
  }
 ],
 "metadata": {
  "kernelspec": {
   "display_name": ".venv",
   "language": "python",
   "name": "python3"
  },
  "language_info": {
   "codemirror_mode": {
    "name": "ipython",
    "version": 3
   },
   "file_extension": ".py",
   "mimetype": "text/x-python",
   "name": "python",
   "nbconvert_exporter": "python",
   "pygments_lexer": "ipython3",
   "version": "3.10.11"
  }
 },
 "nbformat": 4,
 "nbformat_minor": 2
}
